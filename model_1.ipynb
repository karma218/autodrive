{
 "cells": [
  {
   "cell_type": "code",
   "execution_count": 298,
   "metadata": {},
   "outputs": [],
   "source": [
    "import tensorflow as tf\n",
    "import numpy as np\n",
    "from tensorflow import keras\n",
    "from keras import layers\n",
    "import os\n",
    "import pandas as pd\n",
    "import cv2 \n",
    "from tensorflow.keras.optimizers.legacy import Adam\n"
   ]
  },
  {
   "cell_type": "code",
   "execution_count": 325,
   "metadata": {},
   "outputs": [],
   "source": [
    "dataset_folder = \"/Users/karmasmac/Downloads/SteeringModelKarma/Dataset\"\n",
    "final_images_folder_path = os.path.join(dataset_folder, 'final_images')\n",
    "final_data_csv_path = os.path.join(dataset_folder, 'final_data.csv')\n",
    "\n",
    "final_data = pd.read_csv(final_data_csv_path)"
   ]
  },
  {
   "cell_type": "code",
   "execution_count": 326,
   "metadata": {},
   "outputs": [
    {
     "data": {
      "text/html": [
       "<div>\n",
       "<style scoped>\n",
       "    .dataframe tbody tr th:only-of-type {\n",
       "        vertical-align: middle;\n",
       "    }\n",
       "\n",
       "    .dataframe tbody tr th {\n",
       "        vertical-align: top;\n",
       "    }\n",
       "\n",
       "    .dataframe thead th {\n",
       "        text-align: right;\n",
       "    }\n",
       "</style>\n",
       "<table border=\"1\" class=\"dataframe\">\n",
       "  <thead>\n",
       "    <tr style=\"text-align: right;\">\n",
       "      <th></th>\n",
       "      <th>timestamp</th>\n",
       "      <th>angle</th>\n",
       "      <th>throttle</th>\n",
       "      <th>brake</th>\n",
       "    </tr>\n",
       "  </thead>\n",
       "  <tbody>\n",
       "    <tr>\n",
       "      <th>0</th>\n",
       "      <td>147942442726</td>\n",
       "      <td>-0.178024</td>\n",
       "      <td>0.232136</td>\n",
       "      <td>0.147372</td>\n",
       "    </tr>\n",
       "    <tr>\n",
       "      <th>1</th>\n",
       "      <td>147942436580</td>\n",
       "      <td>-0.144862</td>\n",
       "      <td>0.249958</td>\n",
       "      <td>0.149142</td>\n",
       "    </tr>\n",
       "    <tr>\n",
       "      <th>2</th>\n",
       "      <td>147942441606</td>\n",
       "      <td>-0.097738</td>\n",
       "      <td>0.149950</td>\n",
       "      <td>0.161227</td>\n",
       "    </tr>\n",
       "    <tr>\n",
       "      <th>3</th>\n",
       "      <td>147942437990</td>\n",
       "      <td>-0.118682</td>\n",
       "      <td>0.233478</td>\n",
       "      <td>0.148547</td>\n",
       "    </tr>\n",
       "    <tr>\n",
       "      <th>4</th>\n",
       "      <td>147942440456</td>\n",
       "      <td>-0.101229</td>\n",
       "      <td>0.150072</td>\n",
       "      <td>0.148211</td>\n",
       "    </tr>\n",
       "    <tr>\n",
       "      <th>...</th>\n",
       "      <td>...</td>\n",
       "      <td>...</td>\n",
       "      <td>...</td>\n",
       "      <td>...</td>\n",
       "    </tr>\n",
       "    <tr>\n",
       "      <th>1977</th>\n",
       "      <td>147942438365</td>\n",
       "      <td>-0.017453</td>\n",
       "      <td>0.240925</td>\n",
       "      <td>0.148272</td>\n",
       "    </tr>\n",
       "    <tr>\n",
       "      <th>1978</th>\n",
       "      <td>147942431129</td>\n",
       "      <td>0.013963</td>\n",
       "      <td>0.275486</td>\n",
       "      <td>0.147829</td>\n",
       "    </tr>\n",
       "    <tr>\n",
       "      <th>1979</th>\n",
       "      <td>147942441696</td>\n",
       "      <td>-0.095993</td>\n",
       "      <td>0.150072</td>\n",
       "      <td>0.148226</td>\n",
       "    </tr>\n",
       "    <tr>\n",
       "      <th>1980</th>\n",
       "      <td>147942438445</td>\n",
       "      <td>-0.008727</td>\n",
       "      <td>0.168750</td>\n",
       "      <td>0.148714</td>\n",
       "    </tr>\n",
       "    <tr>\n",
       "      <th>1981</th>\n",
       "      <td>147942440416</td>\n",
       "      <td>-0.094248</td>\n",
       "      <td>0.150317</td>\n",
       "      <td>0.148379</td>\n",
       "    </tr>\n",
       "  </tbody>\n",
       "</table>\n",
       "<p>1982 rows × 4 columns</p>\n",
       "</div>"
      ],
      "text/plain": [
       "         timestamp     angle  throttle     brake\n",
       "0     147942442726 -0.178024  0.232136  0.147372\n",
       "1     147942436580 -0.144862  0.249958  0.149142\n",
       "2     147942441606 -0.097738  0.149950  0.161227\n",
       "3     147942437990 -0.118682  0.233478  0.148547\n",
       "4     147942440456 -0.101229  0.150072  0.148211\n",
       "...            ...       ...       ...       ...\n",
       "1977  147942438365 -0.017453  0.240925  0.148272\n",
       "1978  147942431129  0.013963  0.275486  0.147829\n",
       "1979  147942441696 -0.095993  0.150072  0.148226\n",
       "1980  147942438445 -0.008727  0.168750  0.148714\n",
       "1981  147942440416 -0.094248  0.150317  0.148379\n",
       "\n",
       "[1982 rows x 4 columns]"
      ]
     },
     "execution_count": 326,
     "metadata": {},
     "output_type": "execute_result"
    }
   ],
   "source": [
    "final_data"
   ]
  },
  {
   "cell_type": "code",
   "execution_count": 327,
   "metadata": {},
   "outputs": [
    {
     "name": "stdout",
     "output_type": "stream",
     "text": [
      "<class 'pandas.core.frame.DataFrame'>\n",
      "RangeIndex: 1982 entries, 0 to 1981\n",
      "Data columns (total 4 columns):\n",
      " #   Column     Non-Null Count  Dtype  \n",
      "---  ------     --------------  -----  \n",
      " 0   timestamp  1982 non-null   int64  \n",
      " 1   angle      1982 non-null   float64\n",
      " 2   throttle   1982 non-null   float64\n",
      " 3   brake      1982 non-null   float64\n",
      "dtypes: float64(3), int64(1)\n",
      "memory usage: 62.1 KB\n"
     ]
    }
   ],
   "source": [
    "final_data.info()"
   ]
  },
  {
   "cell_type": "code",
   "execution_count": 328,
   "metadata": {},
   "outputs": [
    {
     "data": {
      "text/html": [
       "<div>\n",
       "<style scoped>\n",
       "    .dataframe tbody tr th:only-of-type {\n",
       "        vertical-align: middle;\n",
       "    }\n",
       "\n",
       "    .dataframe tbody tr th {\n",
       "        vertical-align: top;\n",
       "    }\n",
       "\n",
       "    .dataframe thead th {\n",
       "        text-align: right;\n",
       "    }\n",
       "</style>\n",
       "<table border=\"1\" class=\"dataframe\">\n",
       "  <thead>\n",
       "    <tr style=\"text-align: right;\">\n",
       "      <th></th>\n",
       "      <th>timestamp</th>\n",
       "      <th>angle</th>\n",
       "      <th>throttle</th>\n",
       "      <th>brake</th>\n",
       "    </tr>\n",
       "  </thead>\n",
       "  <tbody>\n",
       "    <tr>\n",
       "      <th>792</th>\n",
       "      <td>147942422692</td>\n",
       "      <td>0.109956</td>\n",
       "      <td>0.319326</td>\n",
       "      <td>0.148241</td>\n",
       "    </tr>\n",
       "    <tr>\n",
       "      <th>1715</th>\n",
       "      <td>147942422692</td>\n",
       "      <td>0.109956</td>\n",
       "      <td>0.319326</td>\n",
       "      <td>0.148241</td>\n",
       "    </tr>\n",
       "  </tbody>\n",
       "</table>\n",
       "</div>"
      ],
      "text/plain": [
       "         timestamp     angle  throttle     brake\n",
       "792   147942422692  0.109956  0.319326  0.148241\n",
       "1715  147942422692  0.109956  0.319326  0.148241"
      ]
     },
     "execution_count": 328,
     "metadata": {},
     "output_type": "execute_result"
    }
   ],
   "source": [
    "final_data[final_data['timestamp'] == 147942422692]"
   ]
  },
  {
   "cell_type": "code",
   "execution_count": 329,
   "metadata": {},
   "outputs": [],
   "source": [
    "class Data():\n",
    "    def __init__(self) -> None:\n",
    "        self.path = final_images_folder_path\n",
    "        self.data = []\n",
    "        self.data_train = []\n",
    "        self.data_val = []\n",
    "        self.data_test = []\n",
    "    def make_training_data(self):\n",
    "        for filename in os.listdir(self.path):\n",
    "            if filename.endswith(\".jpg\") or filename.endswith(\".png\"):\n",
    "                image = cv2.imread(os.path.join(self.path,filename))\n",
    "                image = cv2.resize(image, (160, 120))\n",
    "                image = image / 255.0  # Normalize image data\n",
    "                image_name_as_ts = os.path.splitext(filename)[0]\n",
    "\n",
    "                # print(f\"img is {image}\")\n",
    "\n",
    "                data_row = final_data[final_data['timestamp'] == int(image_name_as_ts)]\n",
    "                if not data_row.empty:\n",
    "                    angle = data_row['angle'].iloc[0]\n",
    "                    throttle = data_row['throttle'].iloc[0]\n",
    "                    brake = data_row['brake'].iloc[0]\n",
    "                    self.data.append((image, angle, throttle, brake))\n",
    "        \n",
    "    def training_data(self):\n",
    "        self.data_train = self.data[:int((len(self.data)*3)/4)]\n",
    "        return self.data_train\n",
    "    \n",
    "         # return last 1/4 of total data\n",
    "    def validation_data(self):\n",
    "        self.data_val = self.data[int((len(self.data)*3)/4)+1:-1]\n",
    "        return self.data_val\n",
    "    \n",
    "    def testing_data(self):\n",
    "        self.data_test = self.data[int(len(self.data)-1):]\n",
    "        return self.data_test"
   ]
  },
  {
   "cell_type": "code",
   "execution_count": 330,
   "metadata": {},
   "outputs": [
    {
     "name": "stdout",
     "output_type": "stream",
     "text": [
      "<class 'numpy.ndarray'>\n"
     ]
    }
   ],
   "source": [
    "data = Data()\n",
    "data.make_training_data()\n",
    "\n",
    "data_train = data.training_data()\n",
    "print(type(data_train[0][0]))"
   ]
  },
  {
   "cell_type": "code",
   "execution_count": 331,
   "metadata": {},
   "outputs": [],
   "source": [
    "inputs = keras.Input(name='input_shape', shape=(120,160,3))\n",
    "\n",
    "# convolutional feature maps\n",
    "x = layers.Conv2D(filters=24, kernel_size=(5,5), strides=(2,2), activation='relu')(inputs)\n",
    "x = layers.Conv2D(filters=36, kernel_size=(5,5), strides=(2,2), activation='relu')(x)\n",
    "x = layers.Conv2D(filters=48, kernel_size=(5,5), strides=(2,2), activation='relu')(x)\n",
    "x = layers.Conv2D(filters=64, kernel_size=(3,3), strides=(1,1), activation='relu')(x)\n",
    "x = layers.Conv2D(filters=64, kernel_size=(3,3), strides=(1,1), activation='relu')(x)\n",
    "\n",
    "# flatten layer\n",
    "x = layers.Flatten()(x)\n",
    "\n",
    "# fully connected layers with dropouts for overfit protection\n",
    "x = layers.Dense(units=1152, activation='relu')(x)\n",
    "x = layers.Dropout(rate=0.1)(x)\n",
    "x = layers.Dense(units=100, activation='relu')(x)\n",
    "x = layers.Dropout(rate=0.1)(x)\n",
    "x = layers.Dense(units=50, activation='relu')(x)\n",
    "x = layers.Dropout(rate=0.1)(x)\n",
    "x = layers.Dense(units=10, activation='relu')(x)\n",
    "x = layers.Dropout(rate=0.1)(x)"
   ]
  },
  {
   "cell_type": "code",
   "execution_count": 332,
   "metadata": {},
   "outputs": [
    {
     "data": {
      "text/plain": [
       "<KerasTensor: shape=(None, 10) dtype=float32 (created by layer 'dropout_75')>"
      ]
     },
     "execution_count": 332,
     "metadata": {},
     "output_type": "execute_result"
    }
   ],
   "source": [
    "x"
   ]
  },
  {
   "cell_type": "code",
   "execution_count": 333,
   "metadata": {},
   "outputs": [],
   "source": [
    "# derive steering angle value from single output layer by point multiplication\n",
    "steering_angle = layers.Dense(units=1, activation='linear')(x)\n",
    "steering_angle = layers.Lambda(lambda X: tf.multiply(tf.atan(X), 2), name='steering_angle')(steering_angle)\n",
    "\n",
    "# derive throttle pressure value from single output layer by point multiplication\n",
    "throttle_press = layers.Dense(units=1, activation='linear')(x)\n",
    "throttle_press = layers.Lambda(lambda X: tf.multiply(tf.atan(X), 2), name='throttle_press')(throttle_press)\n",
    "\n",
    "# derive brake pressure value from single output by point multiplication\n",
    "brake_pressure = layers.Dense(units=1, activation='linear')(x)\n",
    "brake_pressure = layers.Lambda(lambda X: tf.multiply(tf.atan(X), 2), name='brake_pressure')(brake_pressure)\n"
   ]
  },
  {
   "cell_type": "code",
   "execution_count": 334,
   "metadata": {},
   "outputs": [
    {
     "name": "stdout",
     "output_type": "stream",
     "text": [
      "Model: \"model_22\"\n",
      "__________________________________________________________________________________________________\n",
      " Layer (type)                Output Shape                 Param #   Connected to                  \n",
      "==================================================================================================\n",
      " input_shape (InputLayer)    [(None, 120, 160, 3)]        0         []                            \n",
      "                                                                                                  \n",
      " conv2d_90 (Conv2D)          (None, 58, 78, 24)           1824      ['input_shape[0][0]']         \n",
      "                                                                                                  \n",
      " conv2d_91 (Conv2D)          (None, 27, 37, 36)           21636     ['conv2d_90[0][0]']           \n",
      "                                                                                                  \n",
      " conv2d_92 (Conv2D)          (None, 12, 17, 48)           43248     ['conv2d_91[0][0]']           \n",
      "                                                                                                  \n",
      " conv2d_93 (Conv2D)          (None, 10, 15, 64)           27712     ['conv2d_92[0][0]']           \n",
      "                                                                                                  \n",
      " conv2d_94 (Conv2D)          (None, 8, 13, 64)            36928     ['conv2d_93[0][0]']           \n",
      "                                                                                                  \n",
      " flatten_18 (Flatten)        (None, 6656)                 0         ['conv2d_94[0][0]']           \n",
      "                                                                                                  \n",
      " dense_126 (Dense)           (None, 1152)                 7668864   ['flatten_18[0][0]']          \n",
      "                                                                                                  \n",
      " dropout_72 (Dropout)        (None, 1152)                 0         ['dense_126[0][0]']           \n",
      "                                                                                                  \n",
      " dense_127 (Dense)           (None, 100)                  115300    ['dropout_72[0][0]']          \n",
      "                                                                                                  \n",
      " dropout_73 (Dropout)        (None, 100)                  0         ['dense_127[0][0]']           \n",
      "                                                                                                  \n",
      " dense_128 (Dense)           (None, 50)                   5050      ['dropout_73[0][0]']          \n",
      "                                                                                                  \n",
      " dropout_74 (Dropout)        (None, 50)                   0         ['dense_128[0][0]']           \n",
      "                                                                                                  \n",
      " dense_129 (Dense)           (None, 10)                   510       ['dropout_74[0][0]']          \n",
      "                                                                                                  \n",
      " dropout_75 (Dropout)        (None, 10)                   0         ['dense_129[0][0]']           \n",
      "                                                                                                  \n",
      " dense_130 (Dense)           (None, 1)                    11        ['dropout_75[0][0]']          \n",
      "                                                                                                  \n",
      " dense_131 (Dense)           (None, 1)                    11        ['dropout_75[0][0]']          \n",
      "                                                                                                  \n",
      " dense_132 (Dense)           (None, 1)                    11        ['dropout_75[0][0]']          \n",
      "                                                                                                  \n",
      " steering_angle (Lambda)     (None, 1)                    0         ['dense_130[0][0]']           \n",
      "                                                                                                  \n",
      " throttle_press (Lambda)     (None, 1)                    0         ['dense_131[0][0]']           \n",
      "                                                                                                  \n",
      " brake_pressure (Lambda)     (None, 1)                    0         ['dense_132[0][0]']           \n",
      "                                                                                                  \n",
      "==================================================================================================\n",
      "Total params: 7921105 (30.22 MB)\n",
      "Trainable params: 7921105 (30.22 MB)\n",
      "Non-trainable params: 0 (0.00 Byte)\n",
      "__________________________________________________________________________________________________\n"
     ]
    }
   ],
   "source": [
    "\n",
    "# build and compile model\n",
    "model = keras.Model(inputs = [inputs], outputs = [steering_angle, throttle_press, brake_pressure])\n",
    "model.compile(\n",
    "    optimizer = Adam(),\n",
    "    loss = {'steering_angle': 'mse', 'throttle_press': 'mse', 'brake_pressure': 'mse'}\n",
    ")\n",
    "model.summary()"
   ]
  },
  {
   "cell_type": "code",
   "execution_count": 335,
   "metadata": {},
   "outputs": [
    {
     "name": "stdout",
     "output_type": "stream",
     "text": [
      "(890, 120, 160, 3) (890, 3)\n",
      "(295, 120, 160, 3) (295, 3)\n",
      "(1, 120, 160, 3) (1, 3)\n"
     ]
    }
   ],
   "source": [
    "data = Data()\n",
    "data.make_training_data()\n",
    "data_train = data.training_data()\n",
    "data_val = data.validation_data()\n",
    "data_test = data.testing_data()\n",
    "print(np.array([data[0] for data in data_train]).shape, np.array([(data[1], data[2], data[3]) for data in data_train]).shape)\n",
    "print(np.array([data[0] for data in data_val]).shape, np.array([(data[1], data[2], data[3]) for data in data_val]).shape)\n",
    "print(np.array([data[0] for data in data_test]).shape, np.array([(data[1], data[2], data[3]) for data in data_test]).shape)"
   ]
  },
  {
   "cell_type": "code",
   "execution_count": 336,
   "metadata": {},
   "outputs": [],
   "source": [
    "data = Data()\n",
    "def train(model, name, data, epochs: 30, steps: 10, steps_val: 10, batch_size: 64):\n",
    "    # x_train & y_train are np.array() objects with data extracted directly from the PilotData object instances\n",
    "    # fit data to model for training\n",
    "    data.make_training_data()\n",
    "    data_train = data.training_data()\n",
    "    data_test = data.validation_data()\n",
    "    print(np.array([data[0] for data in data_train]).shape)\n",
    "    model.fit(np.array([data[0] for data in data_train]), np.array([(data[1], data[2], data[3]) for data in data_train]), batch_size=batch_size, epochs=epochs, steps_per_epoch=steps, validation_split=0.2, validation_steps=steps_val)\n",
    "    # test the model by fitting the test data\n",
    "    stats = model.evaluate(np.array([data[0] for data in data_test]), np.array([(data[1], data[2], data[3]) for data in data_test]), verbose=0)\n",
    "    # print the stats\n",
    "    print(f'Model accuracy: {stats}')\n",
    "    # input('\\nPress [ENTER] to continue...')\n",
    "    # save the trained model\n",
    "    # model.save(f\"models/{name}.h5\")\n",
    "    model.save(f'{name}.h5')"
   ]
  },
  {
   "cell_type": "code",
   "execution_count": 337,
   "metadata": {},
   "outputs": [
    {
     "name": "stdout",
     "output_type": "stream",
     "text": [
      "(890, 120, 160, 3)\n",
      "Epoch 1/10\n",
      "5/5 [==============================] - 1s 122ms/step - loss: 0.2143 - steering_angle_loss: 0.0392 - throttle_press_loss: 0.1217 - brake_pressure_loss: 0.0534 - val_loss: 0.0837 - val_steering_angle_loss: 0.0220 - val_throttle_press_loss: 0.0351 - val_brake_pressure_loss: 0.0266\n",
      "Epoch 2/10\n",
      "5/5 [==============================] - 0s 75ms/step - loss: 0.0855 - steering_angle_loss: 0.0223 - throttle_press_loss: 0.0367 - brake_pressure_loss: 0.0265 - val_loss: 0.0781 - val_steering_angle_loss: 0.0204 - val_throttle_press_loss: 0.0331 - val_brake_pressure_loss: 0.0246\n",
      "Epoch 3/10\n",
      "5/5 [==============================] - 0s 75ms/step - loss: 0.0852 - steering_angle_loss: 0.0247 - throttle_press_loss: 0.0318 - brake_pressure_loss: 0.0287 - val_loss: 0.0711 - val_steering_angle_loss: 0.0202 - val_throttle_press_loss: 0.0233 - val_brake_pressure_loss: 0.0276\n",
      "Epoch 4/10\n",
      "5/5 [==============================] - 0s 74ms/step - loss: 0.0647 - steering_angle_loss: 0.0186 - throttle_press_loss: 0.0221 - brake_pressure_loss: 0.0240 - val_loss: 0.0682 - val_steering_angle_loss: 0.0206 - val_throttle_press_loss: 0.0224 - val_brake_pressure_loss: 0.0252\n",
      "Epoch 5/10\n",
      "5/5 [==============================] - 0s 72ms/step - loss: 0.0685 - steering_angle_loss: 0.0209 - throttle_press_loss: 0.0239 - brake_pressure_loss: 0.0238 - val_loss: 0.0676 - val_steering_angle_loss: 0.0203 - val_throttle_press_loss: 0.0236 - val_brake_pressure_loss: 0.0238\n",
      "Epoch 6/10\n",
      "5/5 [==============================] - 0s 72ms/step - loss: 0.0702 - steering_angle_loss: 0.0225 - throttle_press_loss: 0.0239 - brake_pressure_loss: 0.0238 - val_loss: 0.0680 - val_steering_angle_loss: 0.0209 - val_throttle_press_loss: 0.0242 - val_brake_pressure_loss: 0.0229\n",
      "Epoch 7/10\n",
      "5/5 [==============================] - 0s 73ms/step - loss: 0.0725 - steering_angle_loss: 0.0231 - throttle_press_loss: 0.0243 - brake_pressure_loss: 0.0252 - val_loss: 0.0644 - val_steering_angle_loss: 0.0201 - val_throttle_press_loss: 0.0220 - val_brake_pressure_loss: 0.0223\n",
      "Epoch 8/10\n",
      "5/5 [==============================] - 0s 73ms/step - loss: 0.0708 - steering_angle_loss: 0.0228 - throttle_press_loss: 0.0241 - brake_pressure_loss: 0.0239 - val_loss: 0.0622 - val_steering_angle_loss: 0.0199 - val_throttle_press_loss: 0.0209 - val_brake_pressure_loss: 0.0214\n",
      "Epoch 9/10\n",
      "5/5 [==============================] - 0s 71ms/step - loss: 0.0681 - steering_angle_loss: 0.0214 - throttle_press_loss: 0.0235 - brake_pressure_loss: 0.0232 - val_loss: 0.0612 - val_steering_angle_loss: 0.0196 - val_throttle_press_loss: 0.0205 - val_brake_pressure_loss: 0.0211\n",
      "Epoch 10/10\n",
      "5/5 [==============================] - 0s 72ms/step - loss: 0.0638 - steering_angle_loss: 0.0209 - throttle_press_loss: 0.0218 - brake_pressure_loss: 0.0211 - val_loss: 0.0611 - val_steering_angle_loss: 0.0198 - val_throttle_press_loss: 0.0209 - val_brake_pressure_loss: 0.0204\n",
      "Model accuracy: [0.05963308736681938, 0.01943758875131607, 0.020252743735909462, 0.019942747429013252]\n"
     ]
    },
    {
     "name": "stderr",
     "output_type": "stream",
     "text": [
      "/Users/karmasmac/miniconda3/envs/uav-karma/lib/python3.8/site-packages/keras/src/engine/training.py:3000: UserWarning: You are saving your model as an HDF5 file via `model.save()`. This file format is considered legacy. We recommend using instead the native Keras format, e.g. `model.save('my_model.keras')`.\n",
      "  saving_api.save_model(\n"
     ]
    }
   ],
   "source": [
    "train(model, 'jaishreeram', data, 10, 5, 10, 16)"
   ]
  },
  {
   "cell_type": "code",
   "execution_count": 342,
   "metadata": {},
   "outputs": [
    {
     "name": "stdout",
     "output_type": "stream",
     "text": [
      "[array([[[0.19215686, 0.15294118, 0.22352941],\n",
      "        [0.17647059, 0.1372549 , 0.20392157],\n",
      "        [0.20392157, 0.15686275, 0.22745098],\n",
      "        ...,\n",
      "        [0.99215686, 0.8745098 , 0.83921569],\n",
      "        [1.        , 1.        , 0.97254902],\n",
      "        [1.        , 0.96078431, 0.98039216]],\n",
      "\n",
      "       [[0.2       , 0.19607843, 0.17254902],\n",
      "        [0.20784314, 0.19607843, 0.17254902],\n",
      "        [0.20784314, 0.19215686, 0.17254902],\n",
      "        ...,\n",
      "        [0.98823529, 0.7254902 , 0.69411765],\n",
      "        [0.92941176, 0.74117647, 0.71372549],\n",
      "        [0.95686275, 0.71764706, 0.72941176]],\n",
      "\n",
      "       [[0.21960784, 0.20784314, 0.20784314],\n",
      "        [0.22352941, 0.20784314, 0.20784314],\n",
      "        [0.14509804, 0.12156863, 0.1254902 ],\n",
      "        ...,\n",
      "        [0.92156863, 0.69803922, 0.66666667],\n",
      "        [0.90588235, 0.69019608, 0.6627451 ],\n",
      "        [0.94509804, 0.70588235, 0.69411765]],\n",
      "\n",
      "       ...,\n",
      "\n",
      "       [[0.37254902, 0.33333333, 0.33333333],\n",
      "        [0.37254902, 0.33333333, 0.33333333],\n",
      "        [0.36862745, 0.32941176, 0.32941176],\n",
      "        ...,\n",
      "        [0.6       , 0.56470588, 0.55294118],\n",
      "        [0.62745098, 0.57647059, 0.56862745],\n",
      "        [0.62745098, 0.57647059, 0.56862745]],\n",
      "\n",
      "       [[0.36862745, 0.32941176, 0.32941176],\n",
      "        [0.39215686, 0.35294118, 0.35294118],\n",
      "        [0.38823529, 0.34901961, 0.34901961],\n",
      "        ...,\n",
      "        [0.61176471, 0.58431373, 0.57254902],\n",
      "        [0.62745098, 0.59215686, 0.58039216],\n",
      "        [0.62745098, 0.57647059, 0.56862745]],\n",
      "\n",
      "       [[0.36078431, 0.32156863, 0.32156863],\n",
      "        [0.37254902, 0.33333333, 0.33333333],\n",
      "        [0.39607843, 0.35686275, 0.35686275],\n",
      "        ...,\n",
      "        [0.58039216, 0.54901961, 0.5372549 ],\n",
      "        [0.62352941, 0.6       , 0.58823529],\n",
      "        [0.60784314, 0.59215686, 0.58039216]]])]\n"
     ]
    },
    {
     "ename": "ValueError",
     "evalue": "in user code:\n\n    File \"/Users/karmasmac/miniconda3/envs/uav-karma/lib/python3.8/site-packages/keras/src/engine/training.py\", line 2341, in predict_function  *\n        return step_function(self, iterator)\n    File \"/Users/karmasmac/miniconda3/envs/uav-karma/lib/python3.8/site-packages/keras/src/engine/training.py\", line 2327, in step_function  **\n        outputs = model.distribute_strategy.run(run_step, args=(data,))\n    File \"/Users/karmasmac/miniconda3/envs/uav-karma/lib/python3.8/site-packages/keras/src/engine/training.py\", line 2315, in run_step  **\n        outputs = model.predict_step(data)\n    File \"/Users/karmasmac/miniconda3/envs/uav-karma/lib/python3.8/site-packages/keras/src/engine/training.py\", line 2283, in predict_step\n        return self(x, training=False)\n    File \"/Users/karmasmac/miniconda3/envs/uav-karma/lib/python3.8/site-packages/keras/src/utils/traceback_utils.py\", line 70, in error_handler\n        raise e.with_traceback(filtered_tb) from None\n    File \"/Users/karmasmac/miniconda3/envs/uav-karma/lib/python3.8/site-packages/keras/src/engine/input_spec.py\", line 298, in assert_input_compatibility\n        raise ValueError(\n\n    ValueError: Input 0 of layer \"model_22\" is incompatible with the layer: expected shape=(None, 120, 160, 3), found shape=(None, 160, 3)\n",
     "output_type": "error",
     "traceback": [
      "\u001b[0;31m---------------------------------------------------------------------------\u001b[0m",
      "\u001b[0;31mValueError\u001b[0m                                Traceback (most recent call last)",
      "Cell \u001b[0;32mIn[342], line 31\u001b[0m\n\u001b[1;32m     29\u001b[0m model_pred \u001b[38;5;241m=\u001b[39m \u001b[38;5;124m'\u001b[39m\u001b[38;5;124m/Users/karmasmac/Downloads/SteeringModelKarma/src/jaishreeram.h5\u001b[39m\u001b[38;5;124m'\u001b[39m\n\u001b[1;32m     30\u001b[0m \u001b[38;5;66;03m# Call the predict function with the extracted images\u001b[39;00m\n\u001b[0;32m---> 31\u001b[0m predictions \u001b[38;5;241m=\u001b[39m \u001b[43mpredict\u001b[49m\u001b[43m(\u001b[49m\u001b[43mimages\u001b[49m\u001b[43m,\u001b[49m\u001b[43m \u001b[49m\u001b[43mmodel_pred\u001b[49m\u001b[43m)\u001b[49m\n\u001b[1;32m     32\u001b[0m \u001b[38;5;28;01mif\u001b[39;00m predictions \u001b[38;5;129;01mis\u001b[39;00m \u001b[38;5;129;01mnot\u001b[39;00m \u001b[38;5;28;01mNone\u001b[39;00m:\n\u001b[1;32m     33\u001b[0m     \u001b[38;5;28mprint\u001b[39m(\u001b[38;5;124m\"\u001b[39m\u001b[38;5;124mPredictions:\u001b[39m\u001b[38;5;124m\"\u001b[39m, predictions)\n",
      "Cell \u001b[0;32mIn[342], line 14\u001b[0m, in \u001b[0;36mpredict\u001b[0;34m(data, given_model)\u001b[0m\n\u001b[1;32m     12\u001b[0m \u001b[38;5;66;03m# Predict using the model\u001b[39;00m\n\u001b[1;32m     13\u001b[0m \u001b[38;5;28;01mif\u001b[39;00m model:\n\u001b[0;32m---> 14\u001b[0m     predictions \u001b[38;5;241m=\u001b[39m \u001b[43mmodel\u001b[49m\u001b[38;5;241;43m.\u001b[39;49m\u001b[43mpredict\u001b[49m\u001b[43m(\u001b[49m\u001b[43mdata\u001b[49m\u001b[43m)\u001b[49m\n\u001b[1;32m     15\u001b[0m     \u001b[38;5;28;01mreturn\u001b[39;00m predictions\n\u001b[1;32m     16\u001b[0m \u001b[38;5;28;01melse\u001b[39;00m:\n",
      "File \u001b[0;32m~/miniconda3/envs/uav-karma/lib/python3.8/site-packages/keras/src/utils/traceback_utils.py:70\u001b[0m, in \u001b[0;36mfilter_traceback.<locals>.error_handler\u001b[0;34m(*args, **kwargs)\u001b[0m\n\u001b[1;32m     67\u001b[0m     filtered_tb \u001b[38;5;241m=\u001b[39m _process_traceback_frames(e\u001b[38;5;241m.\u001b[39m__traceback__)\n\u001b[1;32m     68\u001b[0m     \u001b[38;5;66;03m# To get the full stack trace, call:\u001b[39;00m\n\u001b[1;32m     69\u001b[0m     \u001b[38;5;66;03m# `tf.debugging.disable_traceback_filtering()`\u001b[39;00m\n\u001b[0;32m---> 70\u001b[0m     \u001b[38;5;28;01mraise\u001b[39;00m e\u001b[38;5;241m.\u001b[39mwith_traceback(filtered_tb) \u001b[38;5;28;01mfrom\u001b[39;00m \u001b[38;5;28;01mNone\u001b[39;00m\n\u001b[1;32m     71\u001b[0m \u001b[38;5;28;01mfinally\u001b[39;00m:\n\u001b[1;32m     72\u001b[0m     \u001b[38;5;28;01mdel\u001b[39;00m filtered_tb\n",
      "File \u001b[0;32m/var/folders/p9/rqqykvt93474x38jkm7cjyrm0000gn/T/__autograph_generated_file6aqc7mc7.py:15\u001b[0m, in \u001b[0;36mouter_factory.<locals>.inner_factory.<locals>.tf__predict_function\u001b[0;34m(iterator)\u001b[0m\n\u001b[1;32m     13\u001b[0m \u001b[38;5;28;01mtry\u001b[39;00m:\n\u001b[1;32m     14\u001b[0m     do_return \u001b[38;5;241m=\u001b[39m \u001b[38;5;28;01mTrue\u001b[39;00m\n\u001b[0;32m---> 15\u001b[0m     retval_ \u001b[38;5;241m=\u001b[39m ag__\u001b[38;5;241m.\u001b[39mconverted_call(ag__\u001b[38;5;241m.\u001b[39mld(step_function), (ag__\u001b[38;5;241m.\u001b[39mld(\u001b[38;5;28mself\u001b[39m), ag__\u001b[38;5;241m.\u001b[39mld(iterator)), \u001b[38;5;28;01mNone\u001b[39;00m, fscope)\n\u001b[1;32m     16\u001b[0m \u001b[38;5;28;01mexcept\u001b[39;00m:\n\u001b[1;32m     17\u001b[0m     do_return \u001b[38;5;241m=\u001b[39m \u001b[38;5;28;01mFalse\u001b[39;00m\n",
      "\u001b[0;31mValueError\u001b[0m: in user code:\n\n    File \"/Users/karmasmac/miniconda3/envs/uav-karma/lib/python3.8/site-packages/keras/src/engine/training.py\", line 2341, in predict_function  *\n        return step_function(self, iterator)\n    File \"/Users/karmasmac/miniconda3/envs/uav-karma/lib/python3.8/site-packages/keras/src/engine/training.py\", line 2327, in step_function  **\n        outputs = model.distribute_strategy.run(run_step, args=(data,))\n    File \"/Users/karmasmac/miniconda3/envs/uav-karma/lib/python3.8/site-packages/keras/src/engine/training.py\", line 2315, in run_step  **\n        outputs = model.predict_step(data)\n    File \"/Users/karmasmac/miniconda3/envs/uav-karma/lib/python3.8/site-packages/keras/src/engine/training.py\", line 2283, in predict_step\n        return self(x, training=False)\n    File \"/Users/karmasmac/miniconda3/envs/uav-karma/lib/python3.8/site-packages/keras/src/utils/traceback_utils.py\", line 70, in error_handler\n        raise e.with_traceback(filtered_tb) from None\n    File \"/Users/karmasmac/miniconda3/envs/uav-karma/lib/python3.8/site-packages/keras/src/engine/input_spec.py\", line 298, in assert_input_compatibility\n        raise ValueError(\n\n    ValueError: Input 0 of layer \"model_22\" is incompatible with the layer: expected shape=(None, 120, 160, 3), found shape=(None, 160, 3)\n"
     ]
    }
   ],
   "source": [
    "def predict(data, given_model):\n",
    "    if given_model != 'default':\n",
    "        try:\n",
    "            # Load the model with safe_mode=False and use the legacy optimizer\n",
    "            model = keras.models.load_model(given_model, safe_mode=False)\n",
    "        except Exception as e:\n",
    "            print(\"An unexpected error occurred:\", e)\n",
    "            print(\"Please check if the model file path is correct and the model file is not corrupted.\")\n",
    "            return None\n",
    "    else:\n",
    "        model = []\n",
    "    # Predict using the model\n",
    "    if model:\n",
    "        predictions = model.predict(data)\n",
    "        return predictions\n",
    "    else:\n",
    "        print(\"No model loaded.\")\n",
    "        return None\n",
    "\n",
    "test = data.testing_data()\n",
    "\n",
    "# image = cv2.imread(\"/Users/karmasmac/Downloads/SteeringModelKarma/Dataset/right/1479424435766211782.png\")\n",
    "# image = cv2.resize(image, (160, 120))\n",
    "# print(test)\n",
    "\n",
    "# Extract images from the test data\n",
    "images = [sample[0] for sample in test]\n",
    "print(images)\n",
    "model_pred = '/Users/karmasmac/Downloads/SteeringModelKarma/src/jaishreeram.h5'\n",
    "# Call the predict function with the extracted images\n",
    "predictions = predict(images, model_pred)\n",
    "if predictions is not None:\n",
    "    print(\"Predictions:\", predictions)"
   ]
  },
  {
   "cell_type": "code",
   "execution_count": 347,
   "metadata": {},
   "outputs": [
    {
     "name": "stdout",
     "output_type": "stream",
     "text": [
      "WARNING:tensorflow:5 out of the last 7 calls to <function Model.make_predict_function.<locals>.predict_function at 0x30e834940> triggered tf.function retracing. Tracing is expensive and the excessive number of tracings could be due to (1) creating @tf.function repeatedly in a loop, (2) passing tensors with different shapes, (3) passing Python objects instead of tensors. For (1), please define your @tf.function outside of the loop. For (2), @tf.function has reduce_retracing=True option that can avoid unnecessary retracing. For (3), please refer to https://www.tensorflow.org/guide/function#controlling_retracing and https://www.tensorflow.org/api_docs/python/tf/function for  more details.\n"
     ]
    },
    {
     "name": "stderr",
     "output_type": "stream",
     "text": [
      "WARNING:tensorflow:5 out of the last 7 calls to <function Model.make_predict_function.<locals>.predict_function at 0x30e834940> triggered tf.function retracing. Tracing is expensive and the excessive number of tracings could be due to (1) creating @tf.function repeatedly in a loop, (2) passing tensors with different shapes, (3) passing Python objects instead of tensors. For (1), please define your @tf.function outside of the loop. For (2), @tf.function has reduce_retracing=True option that can avoid unnecessary retracing. For (3), please refer to https://www.tensorflow.org/guide/function#controlling_retracing and https://www.tensorflow.org/api_docs/python/tf/function for  more details.\n"
     ]
    },
    {
     "name": "stdout",
     "output_type": "stream",
     "text": [
      "1/1 [==============================] - 0s 69ms/step\n",
      "Predictions: [[array([[0.12741645]], dtype=float32), array([[0.07883751]], dtype=float32), array([[0.10564547]], dtype=float32)]]\n"
     ]
    }
   ],
   "source": [
    "import cv2\n",
    "import numpy as np\n",
    "from keras.models import load_model\n",
    "\n",
    "def preprocess_image(image_path):\n",
    "    # Read the image\n",
    "    image = cv2.imread(image_path)\n",
    "    # Resize the image to match the expected input shape of the model\n",
    "    image = cv2.resize(image, (160, 120))\n",
    "    # Normalize the pixel values to be in the range [0, 1]\n",
    "    image = image.astype(np.float32) / 255.0\n",
    "    # Expand dimensions to create a batch of one image\n",
    "    image = np.expand_dims(image, axis=0)\n",
    "    # print(image)\n",
    "    return image\n",
    "\n",
    "def predict(image_paths, model_path):\n",
    "    try:\n",
    "        # Load the model\n",
    "        model = load_model(model_path)\n",
    "    except Exception as e:\n",
    "        print(\"An unexpected error occurred:\", e)\n",
    "        print(\"Please check if the model file path is correct and the model file is not corrupted.\")\n",
    "        return None\n",
    "\n",
    "    predictions = []\n",
    "    for image_path in image_paths:\n",
    "        # Preprocess the image\n",
    "        preprocessed_image = preprocess_image(image_path)\n",
    "        # Predict using the model\n",
    "        prediction = model.predict(preprocessed_image)\n",
    "        predictions.append(prediction)\n",
    "    \n",
    "    return predictions\n",
    "\n",
    "# Example usage\n",
    "test_image_paths = [\"/Users/karmasmac/Downloads/SteeringModelKarma/Dataset/final_images/147942421588.png\"]\n",
    "model_path = '/Users/karmasmac/Downloads/SteeringModelKarma/src/jaishreeram.h5'\n",
    "predictions = predict(test_image_paths, model_path)\n",
    "if predictions is not None:\n",
    "    print(\"Predictions:\", predictions)\n"
   ]
  },
  {
   "cell_type": "code",
   "execution_count": 345,
   "metadata": {},
   "outputs": [
    {
     "data": {
      "text/html": [
       "<div>\n",
       "<style scoped>\n",
       "    .dataframe tbody tr th:only-of-type {\n",
       "        vertical-align: middle;\n",
       "    }\n",
       "\n",
       "    .dataframe tbody tr th {\n",
       "        vertical-align: top;\n",
       "    }\n",
       "\n",
       "    .dataframe thead th {\n",
       "        text-align: right;\n",
       "    }\n",
       "</style>\n",
       "<table border=\"1\" class=\"dataframe\">\n",
       "  <thead>\n",
       "    <tr style=\"text-align: right;\">\n",
       "      <th></th>\n",
       "      <th>timestamp</th>\n",
       "      <th>angle</th>\n",
       "      <th>throttle</th>\n",
       "      <th>brake</th>\n",
       "    </tr>\n",
       "  </thead>\n",
       "  <tbody>\n",
       "    <tr>\n",
       "      <th>269</th>\n",
       "      <td>147942421588</td>\n",
       "      <td>0.001745</td>\n",
       "      <td>0.395651</td>\n",
       "      <td>0.148135</td>\n",
       "    </tr>\n",
       "  </tbody>\n",
       "</table>\n",
       "</div>"
      ],
      "text/plain": [
       "        timestamp     angle  throttle     brake\n",
       "269  147942421588  0.001745  0.395651  0.148135"
      ]
     },
     "execution_count": 345,
     "metadata": {},
     "output_type": "execute_result"
    }
   ],
   "source": [
    "final_data[final_data['timestamp']==147942421588]"
   ]
  },
  {
   "cell_type": "code",
   "execution_count": null,
   "metadata": {},
   "outputs": [],
   "source": []
  }
 ],
 "metadata": {
  "kernelspec": {
   "display_name": "uav-karma",
   "language": "python",
   "name": "python3"
  },
  "language_info": {
   "codemirror_mode": {
    "name": "ipython",
    "version": 3
   },
   "file_extension": ".py",
   "mimetype": "text/x-python",
   "name": "python",
   "nbconvert_exporter": "python",
   "pygments_lexer": "ipython3",
   "version": "3.8.18"
  }
 },
 "nbformat": 4,
 "nbformat_minor": 2
}
